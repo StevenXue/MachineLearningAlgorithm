{
 "cells": [
  {
   "cell_type": "markdown",
   "metadata": {
    "collapsed": true
   },
   "source": [
    "导读：Python 是一门非常优美的语言，其简洁易用令人不得不感概人生苦短。\n",
    "\n",
    "   很多人都知道 Python 是一种高级编程语言，其设计的核心理念是代码的易读性，以及允许编程者通过若干行代码轻松表达想法创意。\n",
    "\n",
    "   实际上，很多人选择学习 Python 的首要原因是其编程的优美性，用它编码和表达想法非常自然。此外，Python 的编写使用方式有多种，数据科学、网页开发、机器学习皆可使用 Python。Quora、Pinterest 和 Spotify 都使用 Python 作为其后端开发语言。\n",
    "\n",
    "\n",
    "1、冒泡排序\n",
    "\n",
    "2、计算x的n次方的方法\n",
    "\n",
    "3、计算a*a + b*b + c*c + ……\n",
    "\n",
    "4、计算阶乘 n!\n",
    "\n",
    "\n"
   ]
  },
  {
   "cell_type": "code",
   "execution_count": 3,
   "metadata": {},
   "outputs": [
    {
     "name": "stdout",
     "output_type": "stream",
     "text": [
      "[11, 6, 7]\n",
      "[6, 4, 0, 5, 2]\n"
     ]
    }
   ],
   "source": [
    "\n",
    "\"\"\"\n",
    "有一个列表，12个数据，随机选出4个数据出来，怎么选择？\n",
    "\"\"\"\n",
    "# random.sample方法，传入列表和个数即可，会返回一个列表\n",
    "import random\n",
    "\n",
    "num_list = range(0, 12)\n",
    "print(random.sample(num_list, 3))\n",
    "print(random.sample(num_list, 5))\n"
   ]
  },
  {
   "cell_type": "code",
   "execution_count": null,
   "metadata": {},
   "outputs": [],
   "source": [
    "\"\"\"\n",
    "用python读取Excel并保存字典，如何做？ 两行完成\n",
    "\"\"\"\n",
    "import pandas as pd\n",
    "\n",
    "df = pd.read_excel('aaa.xlsx')  # 读取Excel\n",
    "print(df)\n",
    "# to_dict : 参数为orient = \"records\",返回样本列表，每个样本是列表里面的每个元素，列名是键\n",
    "res = df.to_dict(orient=\"records\")\n",
    "print(res)"
   ]
  },
  {
   "cell_type": "code",
   "execution_count": 6,
   "metadata": {},
   "outputs": [
    {
     "name": "stdout",
     "output_type": "stream",
     "text": [
      "1 2\n2 1\npython is good!\n"
     ]
    }
   ],
   "source": [
    "\"\"\" 交换变量值 \"\"\"\n",
    "value1, value2 = 1, 2\n",
    "print(value1, value2)\n",
    "value2, value1 = value1, value2\n",
    "print(value1, value2)\n",
    "\n",
    "\"\"\"将列表中的所有匀速组合成为字符串\"\"\"\n",
    "name_list = [\"python\", \"is\", \"good!\"]\n",
    "print(\" \".join(name_list))"
   ]
  },
  {
   "cell_type": "markdown",
   "metadata": {},
   "source": [
    "## 通过名称来访问元素\n",
    "\n",
    "说到标准库collections，我们就再说一种使用名称来访问元素的方法。先抛个砖，有时我们创建的数据集中每个元素都是有特定的意义的比如：\n",
    "\n",
    "\n",
    "上面的二维数组stock_list的元素含义依次就是每个股票的股票名称，开盘价，以及收盘价。但是如果元素一旦很多的时候，我们要选取其中某一列的数据时，我们会比较头疼需要精确找到它的下标。现在我们可以使用collections中的namedtuple()方法为我们的数据元素进行命名。\n"
   ]
  },
  {
   "cell_type": "code",
   "execution_count": 2,
   "metadata": {},
   "outputs": [
    {
     "name": "stdout",
     "output_type": "stream",
     "text": [
      "AAPL\n['10.30', '11.90']\nstock_info(name='AAPL', open='0', end='11.90')\n"
     ]
    },
    {
     "data": {
      "text/plain": [
       "stock_info(name='AAPL', open='0', end='11.90')"
      ]
     },
     "execution_count": 2,
     "metadata": {},
     "output_type": "execute_result"
    }
   ],
   "source": [
    "from collections import namedtuple\n",
    "\n",
    "stock_list = [['AAPL', '10.30', '11.90'], ['YAHO', '9.23', '8.19'],\n",
    "              ['SINA', '22.80', '25.80']]\n",
    "\n",
    "stock_info = namedtuple('stock_info', ['name', 'open', 'end'])\n",
    "stock_list = stock_info('AAPL', '10.30', '11.90')\n",
    "print(stock_list.name)\n",
    "\n",
    "name, *oped = stock_list\n",
    "print(oped)\n",
    "\n",
    "stock_list = stock_list._replace(open='0')\n",
    "print(stock_list)\n",
    "stock_info('AAPL', '0', '11.90')\n"
   ]
  },
  {
   "cell_type": "markdown",
   "metadata": {},
   "source": [
    "\n",
    "这样我们就定义了一个命名元组，提供了一个类型名称以及相对应的字段：股票名，开盘价，收盘价。当我们需要寻找股票名时就可以写shock_list.name，这样是不是相对于shock_list[0]来得直观的多。而且namedtuple具有索引和分解功能。如果我们需要修改字段值，可以使用 ._replace()方法来实现。\n",
    "\n",
    "* collection中的ChainMap()类\n",
    "ChainMap类是用来将多个字典或映射合并成一个单独的映射，使用原始的字典结构。\n",
    "\n",
    "ChainMap会先检查f的元素，如果f中不存在再去s中寻找，这样所以e['b']的值是f中的值而不是s中的。与单纯的字典update不同，如果使用update方法，e['b']就会等于3。\n",
    "\n"
   ]
  },
  {
   "cell_type": "code",
   "execution_count": 3,
   "metadata": {},
   "outputs": [
    {
     "name": "stdout",
     "output_type": "stream",
     "text": [
      "2\n"
     ]
    }
   ],
   "source": [
    "from collections import ChainMap\n",
    "\n",
    "f = {'a': 1, 'b': 2}\n",
    "s = {'b': 3, 'c': 3}\n",
    "e = ChainMap(f, s)\n",
    "print(e['b'])\n"
   ]
  },
  {
   "cell_type": "markdown",
   "metadata": {},
   "source": [
    "\n",
    "# 总结\n",
    "今天使用了3块内容：计数统计，命名数组和ChainMap的使用。在性能上，我们可以适当使用list comprehension和dictionary comprehension来简化我们的代码，提高性能。我们也可以使用namedtuple来直观地寻找（检索）信息。使用ChainMap来对多个字典合并到一个字典中，需要注意先后顺序对最终结果的影响。\n"
   ]
  },
  {
   "cell_type": "code",
   "execution_count": null,
   "metadata": {},
   "outputs": [],
   "source": []
  }
 ],
 "metadata": {
  "kernelspec": {
   "display_name": "Python 3",
   "language": "python",
   "name": "python3"
  },
  "language_info": {
   "codemirror_mode": {
    "name": "ipython",
    "version": 3
   },
   "file_extension": ".py",
   "mimetype": "text/x-python",
   "name": "python",
   "nbconvert_exporter": "python",
   "pygments_lexer": "ipython3",
   "version": "3.6.3"
  }
 },
 "nbformat": 4,
 "nbformat_minor": 1
}
